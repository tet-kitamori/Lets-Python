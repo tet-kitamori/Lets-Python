{
 "cells": [
  {
   "cell_type": "markdown",
   "id": "bf58b00a-0665-44a7-88a9-9963274b11f9",
   "metadata": {},
   "source": [
    "## Beautiful-MD\n",
    "Jupyter Notebook にはいろんな課題を解くためのメモやスクリプトを記述しますが、\n",
    "\n",
    "きちんとコメントを残しておかないと、ノート自体が廃棄物になってしまいます。\n",
    "\n",
    "そのため、'Markdown' のセルに分かりやすくきれいなコメントを残す方法を、\n",
    "\n",
    "この Notebook に記述します。"
   ]
  },
  {
   "cell_type": "markdown",
   "id": "bc282a34-13f5-4f88-baf7-5a3df864cfdd",
   "metadata": {},
   "source": [
    "## 0. Markdown とは\n",
    "Markdown は、プレーンテキストでドキュメントを手早く書いて\n",
    "残したいときによく使われる記法です。\n",
    "\n",
    "- 文章作りを仕事とするライター\n",
    "- IT 系のエンジニア\n",
    "- Web デザイナ\n",
    "- ブログ配信者\n",
    "\n",
    "のような人たちが利用しているようです。\n",
    "Linux 系のプログラムには、よく'ReadMe.md'がついています。"
   ]
  },
  {
   "cell_type": "markdown",
   "id": "adc1defe-ee48-45a3-9241-669f72c65478",
   "metadata": {},
   "source": [
    "## １．基本の Markdown\n",
    "### 1.1 見出し\n",
    "**見出し**は、'# '(見出し１)、'## '(見出し２)、'### '(見出し３),...\n",
    "というように、'#'を行の先頭に書きます。\n",
    "\n",
    "'#'の数が多いほど、文字が小さくなります。 ' '(スペース)は必須です。\n",
    "\n",
    "例えば、以下のように記述すると、\n",
    "```\n",
    "### 見出し３\n",
    "#### 見出し４\n",
    "##### 見出し５\n",
    "```"
   ]
  },
  {
   "cell_type": "markdown",
   "id": "09f0671d-2985-4c08-89d5-5f1381ff2302",
   "metadata": {},
   "source": [
    "表示結果は、\n",
    "\n",
    "### 見出し３\n",
    "#### 見出し４\n",
    "##### 見出し５"
   ]
  },
  {
   "cell_type": "markdown",
   "id": "fb088d8a-49dd-438a-b485-582801d6f555",
   "metadata": {},
   "source": [
    "### 1.2 箇条書き\n",
    "**番号なしの箇条書き**は、'* '、または、'- 'を行頭に置きます。\n",
    "\n",
    "例えば、以下のように記述すると\n",
    "```\n",
    "* 項目１\n",
    "* 項目２\n",
    "- Item_No.1\n",
    "- Item_No.2\n",
    "```"
   ]
  },
  {
   "cell_type": "markdown",
   "id": "99044452-f08e-44df-8660-a88e33191000",
   "metadata": {},
   "source": [
    "表示結果は、\n",
    "\n",
    "* 項目１\n",
    "* 項目２\n",
    "- Item_No.1\n",
    "- Item_No.2"
   ]
  },
  {
   "cell_type": "markdown",
   "id": "dbce8bb2-7c9f-466f-a41d-ef6b7dca2069",
   "metadata": {},
   "source": [
    "**番号付きの箇条書き**は、行頭に半角数字＋'.'+ ' '(スペース）の後に\n",
    "\n",
    "項目名等を記述します。例えば、以下のようにすれば、\n",
    "```\n",
    "1. 番号付き項目１\n",
    "2. 番号付き項目２\n",
    "```"
   ]
  },
  {
   "cell_type": "markdown",
   "id": "52b45855-c797-47c4-81b6-fb0733823413",
   "metadata": {},
   "source": [
    "表示結果は、\n",
    "\n",
    "1. 番号付き項目１\n",
    "2. 番号付き項目２"
   ]
  },
  {
   "cell_type": "markdown",
   "id": "0a0aa458-2e53-4d03-bde9-74848ec29f09",
   "metadata": {},
   "source": [
    "箇条書きに使うのは、'*'、'-' だけではなく、'+' も使用できます。\n",
    "\n",
    "```\n",
    "+ リスト項目１\n",
    "+ リスト項目２\n",
    "```\n",
    "\n",
    "また、行の最初に' '(スペース)を挿入することで、箇条書きを段付きにできます。\n",
    "\n",
    "- リスト項目１\n",
    "  - リスト項目１－１\n",
    "  - リスト項目１－２\n",
    "- リスト項目２\n",
    "  - リスト項目２－１\n",
    "    - リスト項目２－１－１\n",
    "- リスト項目２－２"
   ]
  },
  {
   "cell_type": "markdown",
   "id": "5abd860d-ff03-4d37-ad71-d6e191a2b7c3",
   "metadata": {},
   "source": [
    "番号付き箇条書きでは、行頭の番号がなんでも順番に番号が振られるのですが、\n",
    "\n",
    "気持ち悪いので、行儀よく順番に番号を振っていくのが推奨されます。\n",
    "\n",
    "番号付きの箇条書きでも、段付きにできますが、段付き表示にするには、\n",
    "\n",
    "上の段の項目の書き始めの位置に番号が来るようにスペースを調整します。\n",
    "\n",
    "例えば、下の例の場合\n",
    "```\n",
    "1. リスト項目１\n",
    "   1. リスト項目１－１（多分 OK）\n",
    "   2. リスト項目１－２（これも多分 OK）\n",
    "2. リスト項目１－３（多分 NG）\n",
    "3. リスト項目２\n",
    "```"
   ]
  },
  {
   "cell_type": "markdown",
   "id": "14442791-b873-459e-a927-52842315660e",
   "metadata": {},
   "source": [
    "表示結果は、\n",
    "\n",
    "1. リスト項目１\n",
    "   1. リスト項目１－１（多分 OK）\n",
    "   2. リスト項目１－２（これも多分 OK）\n",
    "2. リスト項目１－３（多分 NG）\n",
    "3. リスト項目２"
   ]
  },
  {
   "cell_type": "markdown",
   "id": "efcd22ac-8531-4214-8f7c-4657e3d4a67b",
   "metadata": {},
   "source": [
    "### 1.3 ソースコードの埋め込み\n",
    "ドキュメントの中で、ソースコードの説明をしようとすると、Markdown の\n",
    "制御のためのコードが現れると表示が乱れてしまうので、それを避けるためにコード記法を使います。\n",
    "\n",
    "#### 地の文に短いソースコードを埋め込む\n",
    "\n",
    "埋め込みたいソースコードを '`'(バッククオート：Windows だと'shift'+'@')で囲みます。\n",
    "\n",
    "こんな感じ　`console.log(\"**太字じゃない**\")`　です。\n",
    "\n",
    "#### コードブロックをまとめて埋め込む\n",
    "\n",
    "コードブロックをまとめて埋め込むには、バッククオートを３つ続けて打ちます。\n",
    "コードブロックの最初と最後に挟み込むようにします。\n",
    "\n",
    "```\n",
    "const c1 = new Circle(50);  // Create Object C1\n",
    "console.log(c1.area);       // use getter\n",
    "\n",
    "c1.area = 100;              // use setter\n",
    "console.log(c1.rad);\n",
    "```\n",
    "コードブロックの各行の先頭に、半角スペースを４こつけても同じことができます。"
   ]
  },
  {
   "cell_type": "markdown",
   "id": "284c58ed-9024-42bb-bdfb-572eef96efc4",
   "metadata": {},
   "source": [
    "#### コードブロックの色付け\n",
    "\n",
    "コードブロックの埋め込みの際に、言語識別子を付加する事で色付けがされてソースコードを理解しやすくなります。\n",
    "\n",
    "コードブロックを示す最初の三連バッククオートの後に例えば html と記述すると以下のようになります。\n",
    "\n",
    "```html\n",
    "<body>\n",
    "    <h1 id=\"title\">HTMLの基礎</h1>\n",
    "    <h2>BMIの計算</h2>\n",
    "    体重(kg):<input id=\"weight\" /><br />\n",
    "    身長(m):<input id=\"height\" /><br />\n",
    "    計算：<button onclick=\"calc()\">計算</button>\n",
    "    <p id=\"result\"></p>\n",
    "</body>\n",
    "```"
   ]
  },
  {
   "cell_type": "markdown",
   "id": "8b563c75-b779-4baa-a049-752797164b48",
   "metadata": {},
   "source": [
    "### 1.4 表\n",
    "表を使うことで、説明が簡潔にできます。\n",
    "例えば、以下のように記述すると、\n",
    "```\n",
    "|項番（中央寄せ）|品名（左寄せ）|単価（右寄せ）|\n",
    "|:-------:|------|------:|\n",
    "| 1 | バナナ | 280 |\n",
    "| 2 | 晩白柚 | 620 |\n",
    "| 3 | キャベツ | 350 |\n",
    "```"
   ]
  },
  {
   "cell_type": "markdown",
   "id": "eab917de-94af-4c03-95a0-5880f1124e89",
   "metadata": {},
   "source": [
    "結果は、\n",
    "\n",
    "|項番（中央寄せ）|品名（左寄せ）|単価（右寄せ）|\n",
    "|:-------:|------|------:|\n",
    "| 1 | バナナ | 280 |\n",
    "| 2 | 晩白柚 | 620 |\n",
    "| 3 | キャベツ | 350 |"
   ]
  },
  {
   "cell_type": "markdown",
   "id": "2b74cfff-570d-40b5-abcc-002c83770964",
   "metadata": {},
   "source": [
    "表を左寄せにするしたいときには、Markdownセルの中でJavascriptの\n",
    "コードを書きます。　\n",
    "\n",
    "例えば、以下のようにすると\n",
    "```\n",
    "<div style=\"display: table; margin-left: 0;\">\n",
    "<table>\n",
    "  <tr> \n",
    "    <th>項番</th> <th>品名</th> <th>単価</th>\n",
    "  </tr>\n",
    "  <tr> <td>1</td> <td>バナナ</td> <td>280</td> </tr>\n",
    "  <tr> <td>2</td> <td>晩白柚</td> <td>620</td> </tr>\n",
    "  <tr> <td>3</td> <td>キャベツ</td> <td>350</td> </tr>\n",
    "</table>\n",
    "</div>\n",
    "```"
   ]
  },
  {
   "cell_type": "markdown",
   "id": "f300cec6-568b-4cb8-aa7e-040b38abe65a",
   "metadata": {},
   "source": [
    "表示は、\n",
    "<div style=\"display: table; margin-left: 0;\">\n",
    "<table>\n",
    "  <tr> \n",
    "    <th>項番</th> <th>品名</th> <th>単価</th>\n",
    "  </tr>\n",
    "  <tr> <td>1</td> <td>バナナ</td> <td>280</td> </tr>\n",
    "  <tr> <td>2</td> <td>晩白柚</td> <td>620</td> </tr>\n",
    "  <tr> <td>3</td> <td>キャベツ</td> <td>350</td> </tr>\n",
    "</table>\n",
    "</div>"
   ]
  },
  {
   "cell_type": "markdown",
   "id": "30bf7483-2eda-4635-91f0-23309f013d5d",
   "metadata": {},
   "source": [
    "## 2. 数式の表示\n",
    "数式が教科書のようにきれいに表示されていれば、レベルの高さを感じさせるドキュメントになります。\n",
    "\n",
    "Jupyter Notebook では、数式を美しく表現するには、LaTeX形式を使用します。\n",
    "\n",
    "インラインで数式を記述するときは、'$'で囲みます。\n",
    "\n",
    "また、ブロックとして数式を表示する場合は、ブロックを'$$'ではさみます。\n",
    "\n"
   ]
  },
  {
   "cell_type": "markdown",
   "id": "835ee954-839d-4a37-bea7-f7dc04970e60",
   "metadata": {},
   "source": [
    "例えば、インラインの数式は\n",
    "\n",
    "` 質量 m の物質の持つエネルギー： $E = mc^2$ ` \n",
    "\n",
    "と書くことで、以下のように表示される。\n",
    "\n",
    "質量 m の物質の持つエネルギー： $E = mc^2$"
   ]
  },
  {
   "cell_type": "markdown",
   "id": "d051eae3-4d3f-4b5b-9d5b-e707f6011952",
   "metadata": {},
   "source": [
    "2次方程式の解の公式を以下のようにブロックで記述すると\n",
    "\n",
    "```\n",
    "$$\n",
    "x = \\dfrac{-b \\pm \\sqrt{b^2 - 4ac}}{2a}\n",
    "$$\n",
    "```\n",
    "\n",
    "表示は、次のようになる。\n",
    "$$\n",
    "x = \\dfrac{-b \\pm \\sqrt{b^2 - 4ac}}{2a}\n",
    "$$"
   ]
  },
  {
   "cell_type": "markdown",
   "id": "7553c4a3-b649-44dd-a4ba-01a56583d7db",
   "metadata": {},
   "source": [
    "数式が中央寄りになるのが気になるのであれば、LaTexで書かれた数式を\n",
    "HTMLと組み合わせて表示位置を調整します。\n",
    "\n",
    "```\n",
    "<div style=\"display: table; margin-left: 5;\">\n",
    "$$\n",
    "x = \\dfrac{-b \\pm \\sqrt{b^2 - 4ac}}{2a}\n",
    "$$\n",
    "</div>\n",
    "```\n",
    "\n",
    "表示は、次のようになる。\n",
    "<div style=\"display: table; margin-left: 5;\">\n",
    "$$\n",
    "x = \\dfrac{-b \\pm \\sqrt{b^2 - 4ac}}{2a}\n",
    "$$\n",
    "</div>"
   ]
  },
  {
   "cell_type": "markdown",
   "id": "fbbc2c37-b4e4-4066-b45a-3da106123983",
   "metadata": {},
   "source": [
    "### 2.1 演算、数値表現、基本関数、大小関係\n",
    "\n",
    "| 項目 | 記法 | 記述例 | 表示 |\n",
    "|:-------|:-------------|:-----------------------|:-----------|\n",
    "| 加算 | + | `$a + b$` | $a + b$ |\n",
    "| 減算 | - | `$a - b$` | $a - b$ |\n",
    "| 乗算 | `\\times` | `$a \\times b$` | $a \\times b$ |\n",
    "| 乗算 | `\\cdot` | `$a \\cdot b$` | $a \\cdot b$ |\n",
    "| 除算 | `\\div` | `$a \\div b$` | $a \\div b$ |\n",
    "| 除算 | / | `$a / b$` | $a / b$ |\n",
    "| 累乗 | ^ | `$x^3$` | $x^3$ |\n",
    "| 階乗 | ! | `$n!$` | $n!$ |\n",
    "| 平方根 | `\\sqrt` | `$\\sqrt{2}$` | $\\sqrt{2}$ |\n",
    "| 累乗根 | `\\sqrt[n]` | `$\\sqrt[3]{2}$` | $\\sqrt[3]{2}$ |\n",
    "| 下付き文字 | _ | `$x_i$` | $x_i$ |\n",
    "| プラスマイナス | `\\pm` | `$\\pm 3$` | $\\pm 3$ |\n",
    "| 分数 | `\\frac` | `$\\frac{1}{x+2}$` | $\\frac{1}{x+2}$ |\n",
    "| 分数大 | `\\dfrac` | `$\\dfrac{1}{x+2}$` | $\\dfrac{1}{x+2}$ |\n",
    "| 括弧 | `\\left( \\right)` | `$\\left( \\dfrac{1}{x+2} \\right)^2$` | $\\left( \\dfrac{1}{x+2} \\right)^2$ |\n",
    "|--------|--------------|------------------------|------------|\n",
    "| 循環小数 | `\\dot` | `$0.\\dot{6}$` | $0.\\dot{6}$ |\n",
    "| 無限小数 | `\\ldots` | `$\\pi = 3.14\\ldots$` | $\\pi = 3.14\\ldots$ |\n",
    "| 無限大 | `\\infty` | `$\\infty$` | $\\infty$ |\n",
    "|--------|--------------|------------------------|------------|\n",
    "| 対数 | `\\log` | `$\\log x$` | $\\log x$ |\n",
    "| 10の対数 | `\\log_{10}` | `$\\log_{10} x$` | $\\log_{10} x$ |\n",
    "| 三角関数 | `\\sin` | `$\\sin x \\cos y \\tan z$`  | $\\sin x \\cos y \\tan z$ |\n",
    "|--------|--------------|------------------------|------------|\n",
    "| 不等号 | `\\neq` | `$x \\neq y$` | $x \\neq y$ |\n",
    "| ほぼ等しい | `\\fallingdotseq` | `$x \\fallingdotseq y$` | $x \\fallingdotseq y$ |\n",
    "| 大 | `\\gt` | `$x \\gt y$` | $x \\gt y$ |\n",
    "| 以上 | `\\geqq` | `$x \\geqq y$` | $x \\geqq y$ |\n",
    "| 小 | `\\lt` | `$x \\lt y$` | $x \\lt y$ |\n",
    "| 以下 | `\\leqq` | `$x \\leqq y$` | $x \\leqq y$ |\n",
    "| 非常に大 | `\\gg` | `$x \\gg y$` | $x \\gg y$ |\n",
    "| 非常に小 | `\\ll` | `$x \\ll y$` | $x \\ll y$ |\n"
   ]
  },
  {
   "cell_type": "markdown",
   "id": "dccee7e2-c5c8-4856-b5e0-9296c48c3d3f",
   "metadata": {},
   "source": [
    "### 2.2 総和、総乗\n",
    "\n",
    "総和は、`$\\sum_{i=1}^{n}x_i$` とすると、$\\sum_{i=1}^{n}x_i$\n",
    "\n",
    "`$\\displaystyle \\sum_{i=1}^{n}(x_i + 1)$` とすると、$\\displaystyle \\sum_{i=1}^{n}(x_i + 1)$\n",
    "\n",
    " 総乗は、`$\\prod_{i=1}^{n}x_i$` とすると、 $\\prod_{i=1}^{n}x_i$\n",
    "\n",
    " `$\\displaystyle \\prod_{i=1}^{n}(x_i + y_i)$` とすると、 $\\displaystyle \\prod_{i=1}^{n}(x_i + y_i)$"
   ]
  },
  {
   "cell_type": "markdown",
   "id": "d0a94b35-0fa5-4ce0-ad5e-dac1f4de2d1f",
   "metadata": {},
   "source": [
    "### 2.3 積分、極限\n",
    "\n",
    " 積分は、`$\\int_{0}^{\\infty} f(x) dx$` とすると、$\\int_{0}^{\\infty} f(x) dx$\n",
    "\n",
    " `$\\displaystyle \\int_{0}^{\\infty} f(x) dx$` とすると、$\\displaystyle \\int_{0}^{\\infty} f(x) dx$\n",
    "\n",
    " 極限は、`$\\lim_{x \\to \\infty} f(x)$` とすると、$\\lim_{x \\to \\infty} f(x)$\n",
    "\n",
    " `$\\displaystyle \\lim_{x \\to \\infty} f(x)$` とすると、$\\displaystyle \\lim_{x \\to \\infty} f(x)$"
   ]
  },
  {
   "cell_type": "markdown",
   "id": "b7a37b88-a240-42bd-b4b1-1591d7dc8954",
   "metadata": {},
   "source": [
    "### 2.4 配列、行列\n",
    "\n",
    "配列は、`$\\begin{array}{r1} abc & 1234 \\\\ def & 5678 \\end{array}$` とすると、\n",
    "$\\begin{array}{r1} abc & 1234 \\\\ def & 5678 \\end{array}$\n",
    "\n",
    "括弧で囲んだ行列は、`$\\begin{pmatrix} A & B \\\\ C & D \\end{pmatrix}$` とすると、\n",
    "$\\begin{pmatrix} A & B \\\\ C & D \\end{pmatrix}$\n",
    "\n",
    "カギ括弧で囲んだ行列は、`$\\begin{bmatrix} A & B \\\\ C & D \\end{bmatrix}$` とすると、\n",
    "$\\begin{bmatrix} A & B \\\\ C & D \\end{bmatrix}$\n",
    "\n",
    "行列式は、`$\\begin{vmatrix} A & B \\\\ C & D \\end{vmatrix}$` とすると、\n",
    "$\\begin{vmatrix} A & B \\\\ C & D \\end{vmatrix}$\n"
   ]
  },
  {
   "cell_type": "markdown",
   "id": "3799953a-7dcd-4d6b-b255-df41d42e2e63",
   "metadata": {},
   "source": [
    "配列、行列の記述は、以下のようにブロックで記述してもよい。\n",
    "` \\\\ `は改行を意味します。\n",
    "\n",
    "この例では、表示を左寄せにするためのHTMLでの指定をしています。\n",
    "```\n",
    "<div style=\"display: table; margin-left: 0;\">\n",
    "$$\n",
    "\\begin{pmatrix}\n",
    "    A & B \\\\\n",
    "    C & D \n",
    "\\end{pmatrix}\n",
    "$$\n",
    "</div>\n",
    "```\n",
    "\n",
    "表示結果は、\n",
    "<div style=\"display: table; margin-left: 0;\">\n",
    "$$\n",
    "\\begin{pmatrix}\n",
    "    A & B \\\\\n",
    "    C & D \n",
    "\\end{pmatrix}\n",
    "$$\n",
    "</div>\n",
    "\n",
    "となる。"
   ]
  },
  {
   "cell_type": "markdown",
   "id": "c5f554a4-dc29-441c-8366-fe9e369369da",
   "metadata": {},
   "source": [
    "### 2.5 方程式の記述\n",
    "\n",
    "方程式を並べて表示するのは、`$\\begin{eqnarray} a + b = c \\\\ a + d = e \\end{eqnarray}$`\n",
    "$\\begin{eqnarray} a + b = c \\\\ a + d = e \\end{eqnarray}$\n",
    "\n",
    "改行幅を調整するには、` \\\\ `の後に、'[5px]'などと指定する。\n",
    "\n",
    "連立方程式は、以下のように記述します。\n",
    "\n",
    "```\n",
    "<div style=\"display: table; margin-left: 0;\">\n",
    "$$\n",
    "\\begin{cases}\n",
    "    x + 2y = 124 & \\text{(直線１)} \\\\[5px]\n",
    "    2x + 5y = 286 & \\text{(直線２)}\n",
    "\\end{cases}\n",
    "$$\n",
    "</div>\n",
    "```\n",
    "\n",
    "表示結果は、\n",
    "<div style=\"display: table; margin-left: 0;\">\n",
    "$$\n",
    "\\begin{cases}\n",
    "    x + 2y = 124 & \\text{(直線１)} \\\\[5px]\n",
    "    2x + 5y = 286 & \\text{(直線２)}\n",
    "\\end{cases}\n",
    "$$\n",
    "</div>\n"
   ]
  },
  {
   "cell_type": "markdown",
   "id": "13a29bfc-37a1-4c4e-a7b9-0e94361f6bce",
   "metadata": {},
   "source": [
    "### 2.6 フォント関連の指定\n",
    "\n",
    "| 項目 | 記法 | 記述例 | 表示 |\n",
    "|:--------|:--------------|:------------------------|:------------|\n",
    "| フォント色 | `\\color` | `$\\color{red}{x + y}$`  | $\\color{red}{x + y}$ |\n",
    "| 背景色 | `\\colorbox` | `$\\colorbox{green}{x + y}$` | $\\colorbox{green}{x + y}$ |\n",
    "| + 枠線 | `\\fcolorbox` | `$\\fcolorbox{black}{green}{x + y}$` | $\\fcolorbox{black}{green}{x + y}$ |\n",
    "| 文字大大 | `\\Large` | `$\\Large{XYZ}$` | $\\Large{XYZ}$ |\n",
    "| 文字大 | `\\large` | `$\\large{XYZ}$` | $\\large{XYZ}$ |\n",
    "| 文字普通 | `\\normalsize` | `$\\normalsize{XYZ}$` | $\\normalsize{XYZ}$ |\n",
    "| 文字小 | `\\small` | `$\\small{XYZ}$` | $\\small{XYZ}$ |\n",
    "| 文字極小 | `\\scriptsize` | `$\\scriptsize{XYZ}$` | $\\scriptsize{XYZ}$ |\n",
    "| ローマン | `\\mathrm` | `$\\mathrm{XYZ}$` | $\\mathrm{XYZ}$ |\n",
    "| 太字 | `\\mathbf` | `$\\mathbf{XYZ}$` | $\\mathbf{XYZ}$ |\n",
    "| イタリック | `\\mathit` | `$\\mathit{XYZ}$` |$\\mathit{XYZ}$ |\n",
    "| サンセリフ | `\\mathsf` | `$\\mathsf{XYZ}$` |$\\mathsf{XYZ}$ |\n",
    "| 中抜き | `\\mathbb` | `$\\mathbb{XYZ}$` | $\\mathbb{XYZ}$ |\n",
    "| カリグラフィー | `\\mathcal` | `$\\mathcal{XYZ}$` | $\\mathcal{XYZ}$ |"
   ]
  },
  {
   "cell_type": "markdown",
   "id": "8c4b2380-b4cd-4f5e-8475-68b000e925ea",
   "metadata": {},
   "source": [
    "### 2.7 ギリシャ文字\n",
    "科学、工学の分野では物理的なパラメータ、変数にはギリシャ文字を使う習慣がある。\n",
    "誤解のない文書を記述するのであれば、慣例に従ったほうが良い。\n",
    "\n",
    "| 項目 | 記法 | 記述例 | 表示 |\n",
    "|--------|--------------|------------------------|------------|\n",
    "| アルファ | `\\alpha` | `$\\alpha$` | $\\alpha$ |\n",
    "| ベータ | `\\beta` | `$\\beta$` | $\\beta$ |\n",
    "| ガンマ | `\\gamma` | `$\\gamma$` | $\\gamma$ |\n",
    "| デルタ | `\\delta` | `$\\delta$` | $\\delta$ |\n",
    "| イプシロン | `\\varepsilon` | `$\\varepsilon$` | $\\varepsilon$ |\n",
    "| ゼータ | `\\zeta` | `$\\zeta$` | $\\zeta$ |\n",
    "| イータ | `\\eta` | `$\\eta$` | $\\eta$ |\n",
    "| シータ | `\\theta` | `$\\theta$` | $\\theta$ |\n",
    "| イオタ | `\\iota` | `$\\iota$` | $\\iota$ |\n",
    "| カッパ | `\\kappa` | `$\\kappa$` | $\\kappa$ |\n",
    "| ラムダ | `\\lambda` | `$\\lambda$` | $\\lambda$ |\n",
    "| ミュー | `\\mu` | `$\\mu$` | $\\mu$ |\n",
    "| ニュー | `\\nu` | `$\\nu$` | $\\nu$ |\n",
    "| グザイ | `\\xi` | `$\\xi$` | $\\xi$ |\n",
    "| パイ | `\\pi` | `$\\pi$` | $\\pi$ |\n",
    "| ロー | `\\rho` | `$\\rho$` | $\\rho$ | \n",
    "| シグマ | `\\sigma` | `$\\sigma$` | $\\sigma$ |\n",
    "| タウ | `\\tau` | `$\\tau$` | $\\tau$ | \n",
    "| ユプシロン | `\\upsilon` | `$\\upsilon$` | $\\upsilon$ | \n",
    "| ファイ | `\\phi` | `$\\phi$` | $\\phi$ |\n",
    "| ファイ | `\\varphi` | `$\\varphi$` | $\\varphi$ |\n",
    "| カイ | `\\chi` | `$\\chi$` | $\\chi$ |\n",
    "| プサイ | `\\psi` | `$\\psi$` | $\\psi$ |\n",
    "| オメガ | `\\omega` | `$\\omega$` | $\\omega$ |\n",
    "| ガンマ大 | `\\Gamma` | `$\\Gamma$` | $\\Gamma$ |\n",
    "| デルタ大 | `\\Delta` | `$\\Delta$` | $\\Delta$ |\n",
    "| デルタ大 | `\\varDelta` | `$\\varDelta$` | $\\varDelta$ |\n",
    "| シータ大 | `\\Theta` | `$\\Theta$` | $\\Theta$ |\n",
    "| ラムダ大 | `\\Lambda` | `$\\Lambda$` | $\\Lambda$ |\n",
    "| パイ大 | `\\Pi` | `$\\Pi$` | $\\Pi$ |\n",
    "| シグマ大 | `\\Sigma` | `$\\Sigma$` | $\\Sigma$ |\n",
    "| シグマ大 | `\\varSigma` | `$\\varSigma$` | $\\varSigma$ |\n",
    "| ファイ大 | `\\Phi` | `$\\Phi$` | $\\Phi$ |\n",
    "| ファイ大 | `\\varPhi` | `$\\varPhi$` | $\\varPhi$ |\n",
    "| プサイ大 | `\\Psi` | `$\\Psi$` | $\\Psi$ |\n",
    "| プサイ大 | `\\varPsi` | `$\\varPsi$` | $\\varPsi$ |\n",
    "| オメガ大 | `\\Omega` | `$\\Omega$` | $\\Omega$ |\n",
    "| オメガ大 | `\\varOmega` | `$\\varOmega$` | $\\varOmega$ |"
   ]
  },
  {
   "cell_type": "markdown",
   "id": "13a20bc6-9f55-416c-92a7-255e2c2a4d3b",
   "metadata": {},
   "source": [
    "### 2.8 空白調整\n",
    "\n",
    "| 項目 | 記法 | 記述例 | 表示 |\n",
    "|:--------|:--------------|:------------------------|:------------|\n",
    "| 空白なし | `\\!` | `$ x \\! y $` | $ x \\! y $ |\n",
    "| 狭い空白 | `\\ ` | `$ x \\ y $` | $ x \\ y $ |\n",
    "| 少し広い空白 | `\\quad` | `$ x \\quad y $` | $ x \\quad y $ |\n",
    "| 広い空白 | `\\qquad` | `$ x \\qquad y $` | $ x \\qquad y $ |\n",
    "| 長さ指定 | `\\hspace{}` | `$ x \\hspace{100px} y $` | $ x \\hspace{70px} y $ |\n",
    "| スペース1 | `\\,` | `$ x \\, y $` | $ x \\, y $ |\n",
    "| スペース2 | `\\:` | `$ x \\: y $` | $ x \\: y $ |\n",
    "| スペース3 | `\\>` | `$ x \\> y $` | $ x \\> y $ |\n",
    "| スペース4 | `\\;` | `$ x \\; y $` | $ x \\; y $ |\n",
    "| 見えない文字 | `phantom{}` | `$ x \\phantom{50} y $` | $ x \\phantom{50} y $ |\n"
   ]
  },
  {
   "cell_type": "code",
   "execution_count": null,
   "id": "6c5604ff-91e4-4aaa-926c-0d07784f975a",
   "metadata": {},
   "outputs": [],
   "source": []
  }
 ],
 "metadata": {
  "kernelspec": {
   "display_name": "Python 3 (ipykernel)",
   "language": "python",
   "name": "python3"
  },
  "language_info": {
   "codemirror_mode": {
    "name": "ipython",
    "version": 3
   },
   "file_extension": ".py",
   "mimetype": "text/x-python",
   "name": "python",
   "nbconvert_exporter": "python",
   "pygments_lexer": "ipython3",
   "version": "3.12.4"
  }
 },
 "nbformat": 4,
 "nbformat_minor": 5
}
